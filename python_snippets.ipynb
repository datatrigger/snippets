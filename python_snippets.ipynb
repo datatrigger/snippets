{
 "cells": [
  {
   "cell_type": "code",
   "execution_count": null,
   "metadata": {},
   "outputs": [],
   "source": [
    "### Create a virtual environment and import locally-edited module"
   ]
  },
  {
   "cell_type": "code",
   "execution_count": null,
   "metadata": {},
   "outputs": [],
   "source": [
    "# Create a virtual environment\n",
    "\n",
    "cd path/to/folder\n",
    "python3 -m venv venv\n",
    "source venv/bin/activate\n",
    "pip install -r relative/path/to/requirements.txt\n",
    "\n",
    "# Load locally-edited version of module\n",
    "# (so \"import module\" can work)\n",
    "\n",
    "from pathlib import Path\n",
    "import sys\n",
    "sys.path.append('/full/path/to/module')"
   ]
  }
 ],
 "metadata": {
  "language_info": {
   "name": "python"
  },
  "orig_nbformat": 4
 },
 "nbformat": 4,
 "nbformat_minor": 2
}
